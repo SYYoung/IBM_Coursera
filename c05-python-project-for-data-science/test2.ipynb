{
 "cells": [
  {
   "cell_type": "code",
   "execution_count": 3,
   "id": "eb4d4132",
   "metadata": {},
   "outputs": [
    {
     "name": "stdout",
     "output_type": "stream",
     "text": [
      "usage: mamba [-h] [--version] [--slow SLOW] [--enable-coverage]\n",
      "             [--coverage-file COVERAGE_FILE] [--format FORMAT] [--no-color]\n",
      "             [--tags TAGS]\n",
      "             [specs ...]\n",
      "mamba: error: unrecognized arguments: -y\n",
      "usage: mamba [-h] [--version] [--slow SLOW] [--enable-coverage]\n",
      "             [--coverage-file COVERAGE_FILE] [--format FORMAT] [--no-color]\n",
      "             [--tags TAGS]\n",
      "             [specs ...]\n",
      "mamba: error: unrecognized arguments: -y\n",
      "Requirement already satisfied: lxml==4.6.4 in /Users/imcheung/opt/miniconda3/lib/python3.9/site-packages (4.6.4)\n"
     ]
    }
   ],
   "source": [
    "!mamba install bs4==4.10.0 -y\n",
    "!mamba install html5lib==1.1 -y\n",
    "!pip install lxml==4.6.4"
   ]
  },
  {
   "cell_type": "code",
   "execution_count": 2,
   "id": "eeed422d",
   "metadata": {},
   "outputs": [
    {
     "name": "stdout",
     "output_type": "stream",
     "text": [
      "Collecting mamba\n",
      "  Downloading mamba-0.11.2.tar.gz (13 kB)\n",
      "Collecting clint\n",
      "  Downloading clint-0.5.1.tar.gz (29 kB)\n",
      "Collecting coverage\n",
      "  Downloading coverage-7.2.6-cp39-cp39-macosx_11_0_arm64.whl (200 kB)\n",
      "\u001b[K     |████████████████████████████████| 200 kB 1.7 MB/s eta 0:00:01\n",
      "\u001b[?25hCollecting args\n",
      "  Downloading args-0.1.0.tar.gz (3.0 kB)\n",
      "Building wheels for collected packages: mamba, clint, args\n",
      "  Building wheel for mamba (setup.py) ... \u001b[?25ldone\n",
      "\u001b[?25h  Created wheel for mamba: filename=mamba-0.11.2-py3-none-any.whl size=15389 sha256=132a63d909b9f3e2bea42aee8a5b65d1ccd733356f886cd412f7bc76070ea08c\n",
      "  Stored in directory: /Users/imcheung/Library/Caches/pip/wheels/c5/e3/1d/bf899e86efa8c92a7642eb3bef00c3d1c166789cac72d2dc5e\n",
      "  Building wheel for clint (setup.py) ... \u001b[?25ldone\n",
      "\u001b[?25h  Created wheel for clint: filename=clint-0.5.1-py3-none-any.whl size=34473 sha256=6014c1f94263ae81f2d355acd577d26e1db22e4c5db1fe958cf61b1392129723\n",
      "  Stored in directory: /Users/imcheung/Library/Caches/pip/wheels/2c/69/16/04ffdd2e6fbbf2b3aa97970ba8d01c36d09df025f19f25c57e\n",
      "  Building wheel for args (setup.py) ... \u001b[?25ldone\n",
      "\u001b[?25h  Created wheel for args: filename=args-0.1.0-py3-none-any.whl size=3318 sha256=d17ed7a507998709c054d42bb4741447c572cc673faa5b141fa470161c1aff85\n",
      "  Stored in directory: /Users/imcheung/Library/Caches/pip/wheels/35/22/2d/ee3fc491993d35adc89bcc8f558090cabefeff184a9537928d\n",
      "Successfully built mamba clint args\n",
      "Installing collected packages: args, coverage, clint, mamba\n",
      "Successfully installed args-0.1.0 clint-0.5.1 coverage-7.2.6 mamba-0.11.2\n"
     ]
    }
   ],
   "source": [
    "!pip install mamba"
   ]
  },
  {
   "cell_type": "code",
   "execution_count": 4,
   "id": "9b9de1d6",
   "metadata": {},
   "outputs": [
    {
     "name": "stdout",
     "output_type": "stream",
     "text": [
      "\r\n",
      "Usage:   \r\n",
      "  pip install [options] <requirement specifier> [package-index-options] ...\r\n",
      "  pip install [options] -r <requirements file> [package-index-options] ...\r\n",
      "  pip install [options] [-e] <vcs project url> ...\r\n",
      "  pip install [options] [-e] <local project path> ...\r\n",
      "  pip install [options] <archive url/path> ...\r\n",
      "\r\n",
      "no such option: -y\r\n"
     ]
    }
   ],
   "source": [
    "!pip install bs4==4.10.0 -y\n"
   ]
  },
  {
   "cell_type": "code",
   "execution_count": 5,
   "id": "d39ac770",
   "metadata": {},
   "outputs": [
    {
     "name": "stdout",
     "output_type": "stream",
     "text": [
      "Collecting bs4\n",
      "  Downloading bs4-0.0.1.tar.gz (1.1 kB)\n",
      "Requirement already satisfied: beautifulsoup4 in /Users/imcheung/opt/miniconda3/lib/python3.9/site-packages (from bs4) (4.11.1)\n",
      "Requirement already satisfied: soupsieve>1.2 in /Users/imcheung/opt/miniconda3/lib/python3.9/site-packages (from beautifulsoup4->bs4) (2.3.1)\n",
      "Building wheels for collected packages: bs4\n",
      "  Building wheel for bs4 (setup.py) ... \u001b[?25ldone\n",
      "\u001b[?25h  Created wheel for bs4: filename=bs4-0.0.1-py3-none-any.whl size=1272 sha256=7cdbeee9e4a12aeed9afd9e96ac6e67dc3362c2abb0999baf772a4ac12fcf061\n",
      "  Stored in directory: /Users/imcheung/Library/Caches/pip/wheels/73/2b/cb/099980278a0c9a3e57ff1a89875ec07bfa0b6fcbebb9a8cad3\n",
      "Successfully built bs4\n",
      "Installing collected packages: bs4\n",
      "Successfully installed bs4-0.0.1\n",
      "Note: you may need to restart the kernel to use updated packages.\n"
     ]
    }
   ],
   "source": [
    "pip install bs4"
   ]
  },
  {
   "cell_type": "code",
   "execution_count": 6,
   "id": "d3cb75e3",
   "metadata": {},
   "outputs": [
    {
     "name": "stdout",
     "output_type": "stream",
     "text": [
      "Requirement already satisfied: html5lib in /Users/imcheung/opt/miniconda3/lib/python3.9/site-packages (1.1)\n",
      "Requirement already satisfied: webencodings in /Users/imcheung/opt/miniconda3/lib/python3.9/site-packages (from html5lib) (0.5.1)\n",
      "Requirement already satisfied: six>=1.9 in /Users/imcheung/opt/miniconda3/lib/python3.9/site-packages (from html5lib) (1.16.0)\n",
      "Note: you may need to restart the kernel to use updated packages.\n"
     ]
    }
   ],
   "source": [
    "pip install html5lib"
   ]
  },
  {
   "cell_type": "code",
   "execution_count": 7,
   "id": "e01378e9",
   "metadata": {},
   "outputs": [],
   "source": [
    "import pandas as pd\n",
    "import requests\n",
    "from bs4 import BeautifulSoup"
   ]
  },
  {
   "cell_type": "code",
   "execution_count": 8,
   "id": "83eeb51a",
   "metadata": {},
   "outputs": [],
   "source": [
    "url = \"https://cf-courses-data.s3.us.cloud-object-storage.appdomain.cloud/IBMDeveloperSkillsNetwork-PY0220EN-SkillsNetwork/labs/project/netflix_data_webpage.html\""
   ]
  },
  {
   "cell_type": "code",
   "execution_count": 9,
   "id": "ba9ba380",
   "metadata": {},
   "outputs": [],
   "source": [
    "data = requests.get(url).text"
   ]
  },
  {
   "cell_type": "code",
   "execution_count": 11,
   "id": "05ca7eed",
   "metadata": {},
   "outputs": [
    {
     "data": {
      "text/plain": [
       "'<!DOCTYPE html><html id=\"atomic\" class=\"NoJs chrom'"
      ]
     },
     "execution_count": 11,
     "metadata": {},
     "output_type": "execute_result"
    }
   ],
   "source": [
    "data[:50]"
   ]
  },
  {
   "cell_type": "code",
   "execution_count": 12,
   "id": "161cadd1",
   "metadata": {},
   "outputs": [],
   "source": [
    "soup = BeautifulSoup(data, \"html5lib\")"
   ]
  },
  {
   "cell_type": "code",
   "execution_count": 19,
   "id": "0678e757",
   "metadata": {},
   "outputs": [],
   "source": [
    "netflix_data = pd.DataFrame(columns=['Date', 'Open', 'High', 'Low', 'Close', 'Volume'])"
   ]
  },
  {
   "cell_type": "code",
   "execution_count": 20,
   "id": "a0ae5dd6",
   "metadata": {},
   "outputs": [
    {
     "data": {
      "text/html": [
       "<div>\n",
       "<style scoped>\n",
       "    .dataframe tbody tr th:only-of-type {\n",
       "        vertical-align: middle;\n",
       "    }\n",
       "\n",
       "    .dataframe tbody tr th {\n",
       "        vertical-align: top;\n",
       "    }\n",
       "\n",
       "    .dataframe thead th {\n",
       "        text-align: right;\n",
       "    }\n",
       "</style>\n",
       "<table border=\"1\" class=\"dataframe\">\n",
       "  <thead>\n",
       "    <tr style=\"text-align: right;\">\n",
       "      <th></th>\n",
       "      <th>Date</th>\n",
       "      <th>Open</th>\n",
       "      <th>High</th>\n",
       "      <th>Low</th>\n",
       "      <th>Close</th>\n",
       "      <th>Volume</th>\n",
       "    </tr>\n",
       "  </thead>\n",
       "  <tbody>\n",
       "  </tbody>\n",
       "</table>\n",
       "</div>"
      ],
      "text/plain": [
       "Empty DataFrame\n",
       "Columns: [Date, Open, High, Low, Close, Volume]\n",
       "Index: []"
      ]
     },
     "execution_count": 20,
     "metadata": {},
     "output_type": "execute_result"
    }
   ],
   "source": [
    "netflix_data.head()"
   ]
  },
  {
   "cell_type": "code",
   "execution_count": 21,
   "id": "8094ceab",
   "metadata": {},
   "outputs": [
    {
     "data": {
      "text/plain": [
       "<tr class=\"BdT Bdc($seperatorColor) Ta(end) Fz(s) Whs(nw)\" data-reactid=\"51\"><td class=\"Py(10px) Ta(start) Pend(10px)\" data-reactid=\"52\"><span data-reactid=\"53\">Jun 01, 2021</span></td><td class=\"Py(10px) Pstart(10px)\" data-reactid=\"54\"><span data-reactid=\"55\">504.01</span></td><td class=\"Py(10px) Pstart(10px)\" data-reactid=\"56\"><span data-reactid=\"57\">536.13</span></td><td class=\"Py(10px) Pstart(10px)\" data-reactid=\"58\"><span data-reactid=\"59\">482.14</span></td><td class=\"Py(10px) Pstart(10px)\" data-reactid=\"60\"><span data-reactid=\"61\">528.21</span></td><td class=\"Py(10px) Pstart(10px)\" data-reactid=\"62\"><span data-reactid=\"63\">528.21</span></td><td class=\"Py(10px) Pstart(10px)\" data-reactid=\"64\"><span data-reactid=\"65\">78,560,600</span></td></tr>"
      ]
     },
     "execution_count": 21,
     "metadata": {},
     "output_type": "execute_result"
    }
   ],
   "source": [
    "a1 = soup.find('tbody').find('tr')\n",
    "a1"
   ]
  },
  {
   "cell_type": "code",
   "execution_count": 22,
   "id": "9fa32bb5",
   "metadata": {},
   "outputs": [
    {
     "name": "stderr",
     "output_type": "stream",
     "text": [
      "/var/folders/15/fq8jz34j167gs86br_nxwydc0000gn/T/ipykernel_12981/3200015674.py:11: FutureWarning: The frame.append method is deprecated and will be removed from pandas in a future version. Use pandas.concat instead.\n",
      "  netflix_data = netflix_data.append({'Date':date, 'Open':Open, 'High':high, 'Low':low,\n",
      "/var/folders/15/fq8jz34j167gs86br_nxwydc0000gn/T/ipykernel_12981/3200015674.py:11: FutureWarning: The frame.append method is deprecated and will be removed from pandas in a future version. Use pandas.concat instead.\n",
      "  netflix_data = netflix_data.append({'Date':date, 'Open':Open, 'High':high, 'Low':low,\n",
      "/var/folders/15/fq8jz34j167gs86br_nxwydc0000gn/T/ipykernel_12981/3200015674.py:11: FutureWarning: The frame.append method is deprecated and will be removed from pandas in a future version. Use pandas.concat instead.\n",
      "  netflix_data = netflix_data.append({'Date':date, 'Open':Open, 'High':high, 'Low':low,\n",
      "/var/folders/15/fq8jz34j167gs86br_nxwydc0000gn/T/ipykernel_12981/3200015674.py:11: FutureWarning: The frame.append method is deprecated and will be removed from pandas in a future version. Use pandas.concat instead.\n",
      "  netflix_data = netflix_data.append({'Date':date, 'Open':Open, 'High':high, 'Low':low,\n",
      "/var/folders/15/fq8jz34j167gs86br_nxwydc0000gn/T/ipykernel_12981/3200015674.py:11: FutureWarning: The frame.append method is deprecated and will be removed from pandas in a future version. Use pandas.concat instead.\n",
      "  netflix_data = netflix_data.append({'Date':date, 'Open':Open, 'High':high, 'Low':low,\n",
      "/var/folders/15/fq8jz34j167gs86br_nxwydc0000gn/T/ipykernel_12981/3200015674.py:11: FutureWarning: The frame.append method is deprecated and will be removed from pandas in a future version. Use pandas.concat instead.\n",
      "  netflix_data = netflix_data.append({'Date':date, 'Open':Open, 'High':high, 'Low':low,\n",
      "/var/folders/15/fq8jz34j167gs86br_nxwydc0000gn/T/ipykernel_12981/3200015674.py:11: FutureWarning: The frame.append method is deprecated and will be removed from pandas in a future version. Use pandas.concat instead.\n",
      "  netflix_data = netflix_data.append({'Date':date, 'Open':Open, 'High':high, 'Low':low,\n",
      "/var/folders/15/fq8jz34j167gs86br_nxwydc0000gn/T/ipykernel_12981/3200015674.py:11: FutureWarning: The frame.append method is deprecated and will be removed from pandas in a future version. Use pandas.concat instead.\n",
      "  netflix_data = netflix_data.append({'Date':date, 'Open':Open, 'High':high, 'Low':low,\n",
      "/var/folders/15/fq8jz34j167gs86br_nxwydc0000gn/T/ipykernel_12981/3200015674.py:11: FutureWarning: The frame.append method is deprecated and will be removed from pandas in a future version. Use pandas.concat instead.\n",
      "  netflix_data = netflix_data.append({'Date':date, 'Open':Open, 'High':high, 'Low':low,\n",
      "/var/folders/15/fq8jz34j167gs86br_nxwydc0000gn/T/ipykernel_12981/3200015674.py:11: FutureWarning: The frame.append method is deprecated and will be removed from pandas in a future version. Use pandas.concat instead.\n",
      "  netflix_data = netflix_data.append({'Date':date, 'Open':Open, 'High':high, 'Low':low,\n",
      "/var/folders/15/fq8jz34j167gs86br_nxwydc0000gn/T/ipykernel_12981/3200015674.py:11: FutureWarning: The frame.append method is deprecated and will be removed from pandas in a future version. Use pandas.concat instead.\n",
      "  netflix_data = netflix_data.append({'Date':date, 'Open':Open, 'High':high, 'Low':low,\n",
      "/var/folders/15/fq8jz34j167gs86br_nxwydc0000gn/T/ipykernel_12981/3200015674.py:11: FutureWarning: The frame.append method is deprecated and will be removed from pandas in a future version. Use pandas.concat instead.\n",
      "  netflix_data = netflix_data.append({'Date':date, 'Open':Open, 'High':high, 'Low':low,\n",
      "/var/folders/15/fq8jz34j167gs86br_nxwydc0000gn/T/ipykernel_12981/3200015674.py:11: FutureWarning: The frame.append method is deprecated and will be removed from pandas in a future version. Use pandas.concat instead.\n",
      "  netflix_data = netflix_data.append({'Date':date, 'Open':Open, 'High':high, 'Low':low,\n",
      "/var/folders/15/fq8jz34j167gs86br_nxwydc0000gn/T/ipykernel_12981/3200015674.py:11: FutureWarning: The frame.append method is deprecated and will be removed from pandas in a future version. Use pandas.concat instead.\n",
      "  netflix_data = netflix_data.append({'Date':date, 'Open':Open, 'High':high, 'Low':low,\n",
      "/var/folders/15/fq8jz34j167gs86br_nxwydc0000gn/T/ipykernel_12981/3200015674.py:11: FutureWarning: The frame.append method is deprecated and will be removed from pandas in a future version. Use pandas.concat instead.\n",
      "  netflix_data = netflix_data.append({'Date':date, 'Open':Open, 'High':high, 'Low':low,\n",
      "/var/folders/15/fq8jz34j167gs86br_nxwydc0000gn/T/ipykernel_12981/3200015674.py:11: FutureWarning: The frame.append method is deprecated and will be removed from pandas in a future version. Use pandas.concat instead.\n",
      "  netflix_data = netflix_data.append({'Date':date, 'Open':Open, 'High':high, 'Low':low,\n",
      "/var/folders/15/fq8jz34j167gs86br_nxwydc0000gn/T/ipykernel_12981/3200015674.py:11: FutureWarning: The frame.append method is deprecated and will be removed from pandas in a future version. Use pandas.concat instead.\n",
      "  netflix_data = netflix_data.append({'Date':date, 'Open':Open, 'High':high, 'Low':low,\n",
      "/var/folders/15/fq8jz34j167gs86br_nxwydc0000gn/T/ipykernel_12981/3200015674.py:11: FutureWarning: The frame.append method is deprecated and will be removed from pandas in a future version. Use pandas.concat instead.\n",
      "  netflix_data = netflix_data.append({'Date':date, 'Open':Open, 'High':high, 'Low':low,\n",
      "/var/folders/15/fq8jz34j167gs86br_nxwydc0000gn/T/ipykernel_12981/3200015674.py:11: FutureWarning: The frame.append method is deprecated and will be removed from pandas in a future version. Use pandas.concat instead.\n",
      "  netflix_data = netflix_data.append({'Date':date, 'Open':Open, 'High':high, 'Low':low,\n",
      "/var/folders/15/fq8jz34j167gs86br_nxwydc0000gn/T/ipykernel_12981/3200015674.py:11: FutureWarning: The frame.append method is deprecated and will be removed from pandas in a future version. Use pandas.concat instead.\n",
      "  netflix_data = netflix_data.append({'Date':date, 'Open':Open, 'High':high, 'Low':low,\n",
      "/var/folders/15/fq8jz34j167gs86br_nxwydc0000gn/T/ipykernel_12981/3200015674.py:11: FutureWarning: The frame.append method is deprecated and will be removed from pandas in a future version. Use pandas.concat instead.\n",
      "  netflix_data = netflix_data.append({'Date':date, 'Open':Open, 'High':high, 'Low':low,\n",
      "/var/folders/15/fq8jz34j167gs86br_nxwydc0000gn/T/ipykernel_12981/3200015674.py:11: FutureWarning: The frame.append method is deprecated and will be removed from pandas in a future version. Use pandas.concat instead.\n",
      "  netflix_data = netflix_data.append({'Date':date, 'Open':Open, 'High':high, 'Low':low,\n",
      "/var/folders/15/fq8jz34j167gs86br_nxwydc0000gn/T/ipykernel_12981/3200015674.py:11: FutureWarning: The frame.append method is deprecated and will be removed from pandas in a future version. Use pandas.concat instead.\n",
      "  netflix_data = netflix_data.append({'Date':date, 'Open':Open, 'High':high, 'Low':low,\n",
      "/var/folders/15/fq8jz34j167gs86br_nxwydc0000gn/T/ipykernel_12981/3200015674.py:11: FutureWarning: The frame.append method is deprecated and will be removed from pandas in a future version. Use pandas.concat instead.\n",
      "  netflix_data = netflix_data.append({'Date':date, 'Open':Open, 'High':high, 'Low':low,\n",
      "/var/folders/15/fq8jz34j167gs86br_nxwydc0000gn/T/ipykernel_12981/3200015674.py:11: FutureWarning: The frame.append method is deprecated and will be removed from pandas in a future version. Use pandas.concat instead.\n",
      "  netflix_data = netflix_data.append({'Date':date, 'Open':Open, 'High':high, 'Low':low,\n",
      "/var/folders/15/fq8jz34j167gs86br_nxwydc0000gn/T/ipykernel_12981/3200015674.py:11: FutureWarning: The frame.append method is deprecated and will be removed from pandas in a future version. Use pandas.concat instead.\n",
      "  netflix_data = netflix_data.append({'Date':date, 'Open':Open, 'High':high, 'Low':low,\n",
      "/var/folders/15/fq8jz34j167gs86br_nxwydc0000gn/T/ipykernel_12981/3200015674.py:11: FutureWarning: The frame.append method is deprecated and will be removed from pandas in a future version. Use pandas.concat instead.\n",
      "  netflix_data = netflix_data.append({'Date':date, 'Open':Open, 'High':high, 'Low':low,\n",
      "/var/folders/15/fq8jz34j167gs86br_nxwydc0000gn/T/ipykernel_12981/3200015674.py:11: FutureWarning: The frame.append method is deprecated and will be removed from pandas in a future version. Use pandas.concat instead.\n",
      "  netflix_data = netflix_data.append({'Date':date, 'Open':Open, 'High':high, 'Low':low,\n",
      "/var/folders/15/fq8jz34j167gs86br_nxwydc0000gn/T/ipykernel_12981/3200015674.py:11: FutureWarning: The frame.append method is deprecated and will be removed from pandas in a future version. Use pandas.concat instead.\n",
      "  netflix_data = netflix_data.append({'Date':date, 'Open':Open, 'High':high, 'Low':low,\n",
      "/var/folders/15/fq8jz34j167gs86br_nxwydc0000gn/T/ipykernel_12981/3200015674.py:11: FutureWarning: The frame.append method is deprecated and will be removed from pandas in a future version. Use pandas.concat instead.\n",
      "  netflix_data = netflix_data.append({'Date':date, 'Open':Open, 'High':high, 'Low':low,\n",
      "/var/folders/15/fq8jz34j167gs86br_nxwydc0000gn/T/ipykernel_12981/3200015674.py:11: FutureWarning: The frame.append method is deprecated and will be removed from pandas in a future version. Use pandas.concat instead.\n",
      "  netflix_data = netflix_data.append({'Date':date, 'Open':Open, 'High':high, 'Low':low,\n",
      "/var/folders/15/fq8jz34j167gs86br_nxwydc0000gn/T/ipykernel_12981/3200015674.py:11: FutureWarning: The frame.append method is deprecated and will be removed from pandas in a future version. Use pandas.concat instead.\n",
      "  netflix_data = netflix_data.append({'Date':date, 'Open':Open, 'High':high, 'Low':low,\n",
      "/var/folders/15/fq8jz34j167gs86br_nxwydc0000gn/T/ipykernel_12981/3200015674.py:11: FutureWarning: The frame.append method is deprecated and will be removed from pandas in a future version. Use pandas.concat instead.\n",
      "  netflix_data = netflix_data.append({'Date':date, 'Open':Open, 'High':high, 'Low':low,\n",
      "/var/folders/15/fq8jz34j167gs86br_nxwydc0000gn/T/ipykernel_12981/3200015674.py:11: FutureWarning: The frame.append method is deprecated and will be removed from pandas in a future version. Use pandas.concat instead.\n",
      "  netflix_data = netflix_data.append({'Date':date, 'Open':Open, 'High':high, 'Low':low,\n",
      "/var/folders/15/fq8jz34j167gs86br_nxwydc0000gn/T/ipykernel_12981/3200015674.py:11: FutureWarning: The frame.append method is deprecated and will be removed from pandas in a future version. Use pandas.concat instead.\n",
      "  netflix_data = netflix_data.append({'Date':date, 'Open':Open, 'High':high, 'Low':low,\n",
      "/var/folders/15/fq8jz34j167gs86br_nxwydc0000gn/T/ipykernel_12981/3200015674.py:11: FutureWarning: The frame.append method is deprecated and will be removed from pandas in a future version. Use pandas.concat instead.\n",
      "  netflix_data = netflix_data.append({'Date':date, 'Open':Open, 'High':high, 'Low':low,\n",
      "/var/folders/15/fq8jz34j167gs86br_nxwydc0000gn/T/ipykernel_12981/3200015674.py:11: FutureWarning: The frame.append method is deprecated and will be removed from pandas in a future version. Use pandas.concat instead.\n",
      "  netflix_data = netflix_data.append({'Date':date, 'Open':Open, 'High':high, 'Low':low,\n",
      "/var/folders/15/fq8jz34j167gs86br_nxwydc0000gn/T/ipykernel_12981/3200015674.py:11: FutureWarning: The frame.append method is deprecated and will be removed from pandas in a future version. Use pandas.concat instead.\n",
      "  netflix_data = netflix_data.append({'Date':date, 'Open':Open, 'High':high, 'Low':low,\n",
      "/var/folders/15/fq8jz34j167gs86br_nxwydc0000gn/T/ipykernel_12981/3200015674.py:11: FutureWarning: The frame.append method is deprecated and will be removed from pandas in a future version. Use pandas.concat instead.\n",
      "  netflix_data = netflix_data.append({'Date':date, 'Open':Open, 'High':high, 'Low':low,\n",
      "/var/folders/15/fq8jz34j167gs86br_nxwydc0000gn/T/ipykernel_12981/3200015674.py:11: FutureWarning: The frame.append method is deprecated and will be removed from pandas in a future version. Use pandas.concat instead.\n",
      "  netflix_data = netflix_data.append({'Date':date, 'Open':Open, 'High':high, 'Low':low,\n",
      "/var/folders/15/fq8jz34j167gs86br_nxwydc0000gn/T/ipykernel_12981/3200015674.py:11: FutureWarning: The frame.append method is deprecated and will be removed from pandas in a future version. Use pandas.concat instead.\n",
      "  netflix_data = netflix_data.append({'Date':date, 'Open':Open, 'High':high, 'Low':low,\n",
      "/var/folders/15/fq8jz34j167gs86br_nxwydc0000gn/T/ipykernel_12981/3200015674.py:11: FutureWarning: The frame.append method is deprecated and will be removed from pandas in a future version. Use pandas.concat instead.\n",
      "  netflix_data = netflix_data.append({'Date':date, 'Open':Open, 'High':high, 'Low':low,\n",
      "/var/folders/15/fq8jz34j167gs86br_nxwydc0000gn/T/ipykernel_12981/3200015674.py:11: FutureWarning: The frame.append method is deprecated and will be removed from pandas in a future version. Use pandas.concat instead.\n",
      "  netflix_data = netflix_data.append({'Date':date, 'Open':Open, 'High':high, 'Low':low,\n",
      "/var/folders/15/fq8jz34j167gs86br_nxwydc0000gn/T/ipykernel_12981/3200015674.py:11: FutureWarning: The frame.append method is deprecated and will be removed from pandas in a future version. Use pandas.concat instead.\n",
      "  netflix_data = netflix_data.append({'Date':date, 'Open':Open, 'High':high, 'Low':low,\n",
      "/var/folders/15/fq8jz34j167gs86br_nxwydc0000gn/T/ipykernel_12981/3200015674.py:11: FutureWarning: The frame.append method is deprecated and will be removed from pandas in a future version. Use pandas.concat instead.\n",
      "  netflix_data = netflix_data.append({'Date':date, 'Open':Open, 'High':high, 'Low':low,\n",
      "/var/folders/15/fq8jz34j167gs86br_nxwydc0000gn/T/ipykernel_12981/3200015674.py:11: FutureWarning: The frame.append method is deprecated and will be removed from pandas in a future version. Use pandas.concat instead.\n",
      "  netflix_data = netflix_data.append({'Date':date, 'Open':Open, 'High':high, 'Low':low,\n",
      "/var/folders/15/fq8jz34j167gs86br_nxwydc0000gn/T/ipykernel_12981/3200015674.py:11: FutureWarning: The frame.append method is deprecated and will be removed from pandas in a future version. Use pandas.concat instead.\n",
      "  netflix_data = netflix_data.append({'Date':date, 'Open':Open, 'High':high, 'Low':low,\n",
      "/var/folders/15/fq8jz34j167gs86br_nxwydc0000gn/T/ipykernel_12981/3200015674.py:11: FutureWarning: The frame.append method is deprecated and will be removed from pandas in a future version. Use pandas.concat instead.\n",
      "  netflix_data = netflix_data.append({'Date':date, 'Open':Open, 'High':high, 'Low':low,\n",
      "/var/folders/15/fq8jz34j167gs86br_nxwydc0000gn/T/ipykernel_12981/3200015674.py:11: FutureWarning: The frame.append method is deprecated and will be removed from pandas in a future version. Use pandas.concat instead.\n",
      "  netflix_data = netflix_data.append({'Date':date, 'Open':Open, 'High':high, 'Low':low,\n",
      "/var/folders/15/fq8jz34j167gs86br_nxwydc0000gn/T/ipykernel_12981/3200015674.py:11: FutureWarning: The frame.append method is deprecated and will be removed from pandas in a future version. Use pandas.concat instead.\n",
      "  netflix_data = netflix_data.append({'Date':date, 'Open':Open, 'High':high, 'Low':low,\n",
      "/var/folders/15/fq8jz34j167gs86br_nxwydc0000gn/T/ipykernel_12981/3200015674.py:11: FutureWarning: The frame.append method is deprecated and will be removed from pandas in a future version. Use pandas.concat instead.\n",
      "  netflix_data = netflix_data.append({'Date':date, 'Open':Open, 'High':high, 'Low':low,\n",
      "/var/folders/15/fq8jz34j167gs86br_nxwydc0000gn/T/ipykernel_12981/3200015674.py:11: FutureWarning: The frame.append method is deprecated and will be removed from pandas in a future version. Use pandas.concat instead.\n",
      "  netflix_data = netflix_data.append({'Date':date, 'Open':Open, 'High':high, 'Low':low,\n",
      "/var/folders/15/fq8jz34j167gs86br_nxwydc0000gn/T/ipykernel_12981/3200015674.py:11: FutureWarning: The frame.append method is deprecated and will be removed from pandas in a future version. Use pandas.concat instead.\n",
      "  netflix_data = netflix_data.append({'Date':date, 'Open':Open, 'High':high, 'Low':low,\n",
      "/var/folders/15/fq8jz34j167gs86br_nxwydc0000gn/T/ipykernel_12981/3200015674.py:11: FutureWarning: The frame.append method is deprecated and will be removed from pandas in a future version. Use pandas.concat instead.\n",
      "  netflix_data = netflix_data.append({'Date':date, 'Open':Open, 'High':high, 'Low':low,\n",
      "/var/folders/15/fq8jz34j167gs86br_nxwydc0000gn/T/ipykernel_12981/3200015674.py:11: FutureWarning: The frame.append method is deprecated and will be removed from pandas in a future version. Use pandas.concat instead.\n",
      "  netflix_data = netflix_data.append({'Date':date, 'Open':Open, 'High':high, 'Low':low,\n",
      "/var/folders/15/fq8jz34j167gs86br_nxwydc0000gn/T/ipykernel_12981/3200015674.py:11: FutureWarning: The frame.append method is deprecated and will be removed from pandas in a future version. Use pandas.concat instead.\n",
      "  netflix_data = netflix_data.append({'Date':date, 'Open':Open, 'High':high, 'Low':low,\n",
      "/var/folders/15/fq8jz34j167gs86br_nxwydc0000gn/T/ipykernel_12981/3200015674.py:11: FutureWarning: The frame.append method is deprecated and will be removed from pandas in a future version. Use pandas.concat instead.\n",
      "  netflix_data = netflix_data.append({'Date':date, 'Open':Open, 'High':high, 'Low':low,\n",
      "/var/folders/15/fq8jz34j167gs86br_nxwydc0000gn/T/ipykernel_12981/3200015674.py:11: FutureWarning: The frame.append method is deprecated and will be removed from pandas in a future version. Use pandas.concat instead.\n",
      "  netflix_data = netflix_data.append({'Date':date, 'Open':Open, 'High':high, 'Low':low,\n",
      "/var/folders/15/fq8jz34j167gs86br_nxwydc0000gn/T/ipykernel_12981/3200015674.py:11: FutureWarning: The frame.append method is deprecated and will be removed from pandas in a future version. Use pandas.concat instead.\n",
      "  netflix_data = netflix_data.append({'Date':date, 'Open':Open, 'High':high, 'Low':low,\n",
      "/var/folders/15/fq8jz34j167gs86br_nxwydc0000gn/T/ipykernel_12981/3200015674.py:11: FutureWarning: The frame.append method is deprecated and will be removed from pandas in a future version. Use pandas.concat instead.\n",
      "  netflix_data = netflix_data.append({'Date':date, 'Open':Open, 'High':high, 'Low':low,\n",
      "/var/folders/15/fq8jz34j167gs86br_nxwydc0000gn/T/ipykernel_12981/3200015674.py:11: FutureWarning: The frame.append method is deprecated and will be removed from pandas in a future version. Use pandas.concat instead.\n",
      "  netflix_data = netflix_data.append({'Date':date, 'Open':Open, 'High':high, 'Low':low,\n",
      "/var/folders/15/fq8jz34j167gs86br_nxwydc0000gn/T/ipykernel_12981/3200015674.py:11: FutureWarning: The frame.append method is deprecated and will be removed from pandas in a future version. Use pandas.concat instead.\n",
      "  netflix_data = netflix_data.append({'Date':date, 'Open':Open, 'High':high, 'Low':low,\n",
      "/var/folders/15/fq8jz34j167gs86br_nxwydc0000gn/T/ipykernel_12981/3200015674.py:11: FutureWarning: The frame.append method is deprecated and will be removed from pandas in a future version. Use pandas.concat instead.\n",
      "  netflix_data = netflix_data.append({'Date':date, 'Open':Open, 'High':high, 'Low':low,\n",
      "/var/folders/15/fq8jz34j167gs86br_nxwydc0000gn/T/ipykernel_12981/3200015674.py:11: FutureWarning: The frame.append method is deprecated and will be removed from pandas in a future version. Use pandas.concat instead.\n",
      "  netflix_data = netflix_data.append({'Date':date, 'Open':Open, 'High':high, 'Low':low,\n",
      "/var/folders/15/fq8jz34j167gs86br_nxwydc0000gn/T/ipykernel_12981/3200015674.py:11: FutureWarning: The frame.append method is deprecated and will be removed from pandas in a future version. Use pandas.concat instead.\n",
      "  netflix_data = netflix_data.append({'Date':date, 'Open':Open, 'High':high, 'Low':low,\n",
      "/var/folders/15/fq8jz34j167gs86br_nxwydc0000gn/T/ipykernel_12981/3200015674.py:11: FutureWarning: The frame.append method is deprecated and will be removed from pandas in a future version. Use pandas.concat instead.\n",
      "  netflix_data = netflix_data.append({'Date':date, 'Open':Open, 'High':high, 'Low':low,\n",
      "/var/folders/15/fq8jz34j167gs86br_nxwydc0000gn/T/ipykernel_12981/3200015674.py:11: FutureWarning: The frame.append method is deprecated and will be removed from pandas in a future version. Use pandas.concat instead.\n",
      "  netflix_data = netflix_data.append({'Date':date, 'Open':Open, 'High':high, 'Low':low,\n",
      "/var/folders/15/fq8jz34j167gs86br_nxwydc0000gn/T/ipykernel_12981/3200015674.py:11: FutureWarning: The frame.append method is deprecated and will be removed from pandas in a future version. Use pandas.concat instead.\n",
      "  netflix_data = netflix_data.append({'Date':date, 'Open':Open, 'High':high, 'Low':low,\n",
      "/var/folders/15/fq8jz34j167gs86br_nxwydc0000gn/T/ipykernel_12981/3200015674.py:11: FutureWarning: The frame.append method is deprecated and will be removed from pandas in a future version. Use pandas.concat instead.\n",
      "  netflix_data = netflix_data.append({'Date':date, 'Open':Open, 'High':high, 'Low':low,\n",
      "/var/folders/15/fq8jz34j167gs86br_nxwydc0000gn/T/ipykernel_12981/3200015674.py:11: FutureWarning: The frame.append method is deprecated and will be removed from pandas in a future version. Use pandas.concat instead.\n",
      "  netflix_data = netflix_data.append({'Date':date, 'Open':Open, 'High':high, 'Low':low,\n"
     ]
    }
   ],
   "source": [
    "for row in soup.find('tbody').find_all('tr'):\n",
    "    col = row.find_all('td')\n",
    "    date = col[0].text\n",
    "    Open = col[1].text\n",
    "    high = col[2].text\n",
    "    low = col[3].text\n",
    "    close = col[4].text\n",
    "    adj_close = col[5].text\n",
    "    volume = col[6].text\n",
    "    \n",
    "    netflix_data = netflix_data.append({'Date':date, 'Open':Open, 'High':high, 'Low':low,\n",
    "                                       'Close':close, 'Adj Close': close, 'Volume':volume},\n",
    "                                      ignore_index=True)"
   ]
  },
  {
   "cell_type": "code",
   "execution_count": 23,
   "id": "5e18da0f",
   "metadata": {},
   "outputs": [
    {
     "data": {
      "text/html": [
       "<div>\n",
       "<style scoped>\n",
       "    .dataframe tbody tr th:only-of-type {\n",
       "        vertical-align: middle;\n",
       "    }\n",
       "\n",
       "    .dataframe tbody tr th {\n",
       "        vertical-align: top;\n",
       "    }\n",
       "\n",
       "    .dataframe thead th {\n",
       "        text-align: right;\n",
       "    }\n",
       "</style>\n",
       "<table border=\"1\" class=\"dataframe\">\n",
       "  <thead>\n",
       "    <tr style=\"text-align: right;\">\n",
       "      <th></th>\n",
       "      <th>Date</th>\n",
       "      <th>Open</th>\n",
       "      <th>High</th>\n",
       "      <th>Low</th>\n",
       "      <th>Close</th>\n",
       "      <th>Volume</th>\n",
       "      <th>Adj Close</th>\n",
       "    </tr>\n",
       "  </thead>\n",
       "  <tbody>\n",
       "    <tr>\n",
       "      <th>0</th>\n",
       "      <td>Jun 01, 2021</td>\n",
       "      <td>504.01</td>\n",
       "      <td>536.13</td>\n",
       "      <td>482.14</td>\n",
       "      <td>528.21</td>\n",
       "      <td>78,560,600</td>\n",
       "      <td>528.21</td>\n",
       "    </tr>\n",
       "    <tr>\n",
       "      <th>1</th>\n",
       "      <td>May 01, 2021</td>\n",
       "      <td>512.65</td>\n",
       "      <td>518.95</td>\n",
       "      <td>478.54</td>\n",
       "      <td>502.81</td>\n",
       "      <td>66,927,600</td>\n",
       "      <td>502.81</td>\n",
       "    </tr>\n",
       "    <tr>\n",
       "      <th>2</th>\n",
       "      <td>Apr 01, 2021</td>\n",
       "      <td>529.93</td>\n",
       "      <td>563.56</td>\n",
       "      <td>499.00</td>\n",
       "      <td>513.47</td>\n",
       "      <td>111,573,300</td>\n",
       "      <td>513.47</td>\n",
       "    </tr>\n",
       "    <tr>\n",
       "      <th>3</th>\n",
       "      <td>Mar 01, 2021</td>\n",
       "      <td>545.57</td>\n",
       "      <td>556.99</td>\n",
       "      <td>492.85</td>\n",
       "      <td>521.66</td>\n",
       "      <td>90,183,900</td>\n",
       "      <td>521.66</td>\n",
       "    </tr>\n",
       "    <tr>\n",
       "      <th>4</th>\n",
       "      <td>Feb 01, 2021</td>\n",
       "      <td>536.79</td>\n",
       "      <td>566.65</td>\n",
       "      <td>518.28</td>\n",
       "      <td>538.85</td>\n",
       "      <td>61,902,300</td>\n",
       "      <td>538.85</td>\n",
       "    </tr>\n",
       "  </tbody>\n",
       "</table>\n",
       "</div>"
      ],
      "text/plain": [
       "           Date    Open    High     Low   Close       Volume Adj Close\n",
       "0  Jun 01, 2021  504.01  536.13  482.14  528.21   78,560,600    528.21\n",
       "1  May 01, 2021  512.65  518.95  478.54  502.81   66,927,600    502.81\n",
       "2  Apr 01, 2021  529.93  563.56  499.00  513.47  111,573,300    513.47\n",
       "3  Mar 01, 2021  545.57  556.99  492.85  521.66   90,183,900    521.66\n",
       "4  Feb 01, 2021  536.79  566.65  518.28  538.85   61,902,300    538.85"
      ]
     },
     "execution_count": 23,
     "metadata": {},
     "output_type": "execute_result"
    }
   ],
   "source": [
    "netflix_data.head()"
   ]
  },
  {
   "cell_type": "code",
   "execution_count": 25,
   "id": "a3199283",
   "metadata": {},
   "outputs": [
    {
     "data": {
      "text/plain": [
       "list"
      ]
     },
     "execution_count": 25,
     "metadata": {},
     "output_type": "execute_result"
    }
   ],
   "source": [
    "read_html_pandas_data = pd.read_html(url)\n",
    "type(read_html_pandas_data)"
   ]
  },
  {
   "cell_type": "code",
   "execution_count": 27,
   "id": "dafe0c05",
   "metadata": {},
   "outputs": [
    {
     "data": {
      "text/plain": [
       "1"
      ]
     },
     "execution_count": 27,
     "metadata": {},
     "output_type": "execute_result"
    }
   ],
   "source": [
    "len(read_html_pandas_data)"
   ]
  },
  {
   "cell_type": "code",
   "execution_count": 28,
   "id": "274c5f3d",
   "metadata": {},
   "outputs": [
    {
     "data": {
      "text/html": [
       "<div>\n",
       "<style scoped>\n",
       "    .dataframe tbody tr th:only-of-type {\n",
       "        vertical-align: middle;\n",
       "    }\n",
       "\n",
       "    .dataframe tbody tr th {\n",
       "        vertical-align: top;\n",
       "    }\n",
       "\n",
       "    .dataframe thead th {\n",
       "        text-align: right;\n",
       "    }\n",
       "</style>\n",
       "<table border=\"1\" class=\"dataframe\">\n",
       "  <thead>\n",
       "    <tr style=\"text-align: right;\">\n",
       "      <th></th>\n",
       "      <th>Date</th>\n",
       "      <th>Open</th>\n",
       "      <th>High</th>\n",
       "      <th>Low</th>\n",
       "      <th>Close*</th>\n",
       "      <th>Adj Close**</th>\n",
       "      <th>Volume</th>\n",
       "    </tr>\n",
       "  </thead>\n",
       "  <tbody>\n",
       "    <tr>\n",
       "      <th>0</th>\n",
       "      <td>Jun 01, 2021</td>\n",
       "      <td>504.01</td>\n",
       "      <td>536.13</td>\n",
       "      <td>482.14</td>\n",
       "      <td>528.21</td>\n",
       "      <td>528.21</td>\n",
       "      <td>78560600</td>\n",
       "    </tr>\n",
       "    <tr>\n",
       "      <th>1</th>\n",
       "      <td>May 01, 2021</td>\n",
       "      <td>512.65</td>\n",
       "      <td>518.95</td>\n",
       "      <td>478.54</td>\n",
       "      <td>502.81</td>\n",
       "      <td>502.81</td>\n",
       "      <td>66927600</td>\n",
       "    </tr>\n",
       "    <tr>\n",
       "      <th>2</th>\n",
       "      <td>Apr 01, 2021</td>\n",
       "      <td>529.93</td>\n",
       "      <td>563.56</td>\n",
       "      <td>499.00</td>\n",
       "      <td>513.47</td>\n",
       "      <td>513.47</td>\n",
       "      <td>111573300</td>\n",
       "    </tr>\n",
       "    <tr>\n",
       "      <th>3</th>\n",
       "      <td>Mar 01, 2021</td>\n",
       "      <td>545.57</td>\n",
       "      <td>556.99</td>\n",
       "      <td>492.85</td>\n",
       "      <td>521.66</td>\n",
       "      <td>521.66</td>\n",
       "      <td>90183900</td>\n",
       "    </tr>\n",
       "    <tr>\n",
       "      <th>4</th>\n",
       "      <td>Feb 01, 2021</td>\n",
       "      <td>536.79</td>\n",
       "      <td>566.65</td>\n",
       "      <td>518.28</td>\n",
       "      <td>538.85</td>\n",
       "      <td>538.85</td>\n",
       "      <td>61902300</td>\n",
       "    </tr>\n",
       "  </tbody>\n",
       "</table>\n",
       "</div>"
      ],
      "text/plain": [
       "           Date    Open    High     Low  Close* Adj Close**     Volume\n",
       "0  Jun 01, 2021  504.01  536.13  482.14  528.21      528.21   78560600\n",
       "1  May 01, 2021  512.65  518.95  478.54  502.81      502.81   66927600\n",
       "2  Apr 01, 2021  529.93  563.56  499.00  513.47      513.47  111573300\n",
       "3  Mar 01, 2021  545.57  556.99  492.85  521.66      521.66   90183900\n",
       "4  Feb 01, 2021  536.79  566.65  518.28  538.85      538.85   61902300"
      ]
     },
     "execution_count": 28,
     "metadata": {},
     "output_type": "execute_result"
    }
   ],
   "source": [
    "netflix_dataframe = read_html_pandas_data[0]\n",
    "netflix_dataframe.head()"
   ]
  },
  {
   "cell_type": "code",
   "execution_count": 29,
   "id": "303e1677",
   "metadata": {},
   "outputs": [],
   "source": [
    "url = \"https://cf-courses-data.s3.us.cloud-object-storage.appdomain.cloud/IBMDeveloperSkillsNetwork-PY0220EN-SkillsNetwork/labs/project/amazon_data_webpage.html\""
   ]
  },
  {
   "cell_type": "code",
   "execution_count": 30,
   "id": "8b47afe2",
   "metadata": {},
   "outputs": [],
   "source": [
    "data = requests.get(url).text\n",
    "soup = BeautifulSoup(data, \"html5lib\")"
   ]
  },
  {
   "cell_type": "code",
   "execution_count": 31,
   "id": "5ca59b05",
   "metadata": {},
   "outputs": [
    {
     "data": {
      "text/plain": [
       "<title>Amazon.com, Inc. (AMZN) Stock Historical Prices &amp; Data - Yahoo Finance</title>"
      ]
     },
     "execution_count": 31,
     "metadata": {},
     "output_type": "execute_result"
    }
   ],
   "source": [
    "soup.find('title')"
   ]
  },
  {
   "cell_type": "code",
   "execution_count": 33,
   "id": "1fbb82e0",
   "metadata": {},
   "outputs": [
    {
     "name": "stderr",
     "output_type": "stream",
     "text": [
      "/var/folders/15/fq8jz34j167gs86br_nxwydc0000gn/T/ipykernel_12981/2860485820.py:13: FutureWarning: The frame.append method is deprecated and will be removed from pandas in a future version. Use pandas.concat instead.\n",
      "  amazon_data = amazon_data.append({'Date':date, 'Open':Open, 'High':high, 'Low':low,\n",
      "/var/folders/15/fq8jz34j167gs86br_nxwydc0000gn/T/ipykernel_12981/2860485820.py:13: FutureWarning: The frame.append method is deprecated and will be removed from pandas in a future version. Use pandas.concat instead.\n",
      "  amazon_data = amazon_data.append({'Date':date, 'Open':Open, 'High':high, 'Low':low,\n",
      "/var/folders/15/fq8jz34j167gs86br_nxwydc0000gn/T/ipykernel_12981/2860485820.py:13: FutureWarning: The frame.append method is deprecated and will be removed from pandas in a future version. Use pandas.concat instead.\n",
      "  amazon_data = amazon_data.append({'Date':date, 'Open':Open, 'High':high, 'Low':low,\n",
      "/var/folders/15/fq8jz34j167gs86br_nxwydc0000gn/T/ipykernel_12981/2860485820.py:13: FutureWarning: The frame.append method is deprecated and will be removed from pandas in a future version. Use pandas.concat instead.\n",
      "  amazon_data = amazon_data.append({'Date':date, 'Open':Open, 'High':high, 'Low':low,\n",
      "/var/folders/15/fq8jz34j167gs86br_nxwydc0000gn/T/ipykernel_12981/2860485820.py:13: FutureWarning: The frame.append method is deprecated and will be removed from pandas in a future version. Use pandas.concat instead.\n",
      "  amazon_data = amazon_data.append({'Date':date, 'Open':Open, 'High':high, 'Low':low,\n",
      "/var/folders/15/fq8jz34j167gs86br_nxwydc0000gn/T/ipykernel_12981/2860485820.py:13: FutureWarning: The frame.append method is deprecated and will be removed from pandas in a future version. Use pandas.concat instead.\n",
      "  amazon_data = amazon_data.append({'Date':date, 'Open':Open, 'High':high, 'Low':low,\n",
      "/var/folders/15/fq8jz34j167gs86br_nxwydc0000gn/T/ipykernel_12981/2860485820.py:13: FutureWarning: The frame.append method is deprecated and will be removed from pandas in a future version. Use pandas.concat instead.\n",
      "  amazon_data = amazon_data.append({'Date':date, 'Open':Open, 'High':high, 'Low':low,\n",
      "/var/folders/15/fq8jz34j167gs86br_nxwydc0000gn/T/ipykernel_12981/2860485820.py:13: FutureWarning: The frame.append method is deprecated and will be removed from pandas in a future version. Use pandas.concat instead.\n",
      "  amazon_data = amazon_data.append({'Date':date, 'Open':Open, 'High':high, 'Low':low,\n",
      "/var/folders/15/fq8jz34j167gs86br_nxwydc0000gn/T/ipykernel_12981/2860485820.py:13: FutureWarning: The frame.append method is deprecated and will be removed from pandas in a future version. Use pandas.concat instead.\n",
      "  amazon_data = amazon_data.append({'Date':date, 'Open':Open, 'High':high, 'Low':low,\n",
      "/var/folders/15/fq8jz34j167gs86br_nxwydc0000gn/T/ipykernel_12981/2860485820.py:13: FutureWarning: The frame.append method is deprecated and will be removed from pandas in a future version. Use pandas.concat instead.\n",
      "  amazon_data = amazon_data.append({'Date':date, 'Open':Open, 'High':high, 'Low':low,\n",
      "/var/folders/15/fq8jz34j167gs86br_nxwydc0000gn/T/ipykernel_12981/2860485820.py:13: FutureWarning: The frame.append method is deprecated and will be removed from pandas in a future version. Use pandas.concat instead.\n",
      "  amazon_data = amazon_data.append({'Date':date, 'Open':Open, 'High':high, 'Low':low,\n",
      "/var/folders/15/fq8jz34j167gs86br_nxwydc0000gn/T/ipykernel_12981/2860485820.py:13: FutureWarning: The frame.append method is deprecated and will be removed from pandas in a future version. Use pandas.concat instead.\n",
      "  amazon_data = amazon_data.append({'Date':date, 'Open':Open, 'High':high, 'Low':low,\n",
      "/var/folders/15/fq8jz34j167gs86br_nxwydc0000gn/T/ipykernel_12981/2860485820.py:13: FutureWarning: The frame.append method is deprecated and will be removed from pandas in a future version. Use pandas.concat instead.\n",
      "  amazon_data = amazon_data.append({'Date':date, 'Open':Open, 'High':high, 'Low':low,\n",
      "/var/folders/15/fq8jz34j167gs86br_nxwydc0000gn/T/ipykernel_12981/2860485820.py:13: FutureWarning: The frame.append method is deprecated and will be removed from pandas in a future version. Use pandas.concat instead.\n",
      "  amazon_data = amazon_data.append({'Date':date, 'Open':Open, 'High':high, 'Low':low,\n",
      "/var/folders/15/fq8jz34j167gs86br_nxwydc0000gn/T/ipykernel_12981/2860485820.py:13: FutureWarning: The frame.append method is deprecated and will be removed from pandas in a future version. Use pandas.concat instead.\n",
      "  amazon_data = amazon_data.append({'Date':date, 'Open':Open, 'High':high, 'Low':low,\n",
      "/var/folders/15/fq8jz34j167gs86br_nxwydc0000gn/T/ipykernel_12981/2860485820.py:13: FutureWarning: The frame.append method is deprecated and will be removed from pandas in a future version. Use pandas.concat instead.\n",
      "  amazon_data = amazon_data.append({'Date':date, 'Open':Open, 'High':high, 'Low':low,\n",
      "/var/folders/15/fq8jz34j167gs86br_nxwydc0000gn/T/ipykernel_12981/2860485820.py:13: FutureWarning: The frame.append method is deprecated and will be removed from pandas in a future version. Use pandas.concat instead.\n",
      "  amazon_data = amazon_data.append({'Date':date, 'Open':Open, 'High':high, 'Low':low,\n",
      "/var/folders/15/fq8jz34j167gs86br_nxwydc0000gn/T/ipykernel_12981/2860485820.py:13: FutureWarning: The frame.append method is deprecated and will be removed from pandas in a future version. Use pandas.concat instead.\n",
      "  amazon_data = amazon_data.append({'Date':date, 'Open':Open, 'High':high, 'Low':low,\n",
      "/var/folders/15/fq8jz34j167gs86br_nxwydc0000gn/T/ipykernel_12981/2860485820.py:13: FutureWarning: The frame.append method is deprecated and will be removed from pandas in a future version. Use pandas.concat instead.\n",
      "  amazon_data = amazon_data.append({'Date':date, 'Open':Open, 'High':high, 'Low':low,\n",
      "/var/folders/15/fq8jz34j167gs86br_nxwydc0000gn/T/ipykernel_12981/2860485820.py:13: FutureWarning: The frame.append method is deprecated and will be removed from pandas in a future version. Use pandas.concat instead.\n",
      "  amazon_data = amazon_data.append({'Date':date, 'Open':Open, 'High':high, 'Low':low,\n",
      "/var/folders/15/fq8jz34j167gs86br_nxwydc0000gn/T/ipykernel_12981/2860485820.py:13: FutureWarning: The frame.append method is deprecated and will be removed from pandas in a future version. Use pandas.concat instead.\n",
      "  amazon_data = amazon_data.append({'Date':date, 'Open':Open, 'High':high, 'Low':low,\n",
      "/var/folders/15/fq8jz34j167gs86br_nxwydc0000gn/T/ipykernel_12981/2860485820.py:13: FutureWarning: The frame.append method is deprecated and will be removed from pandas in a future version. Use pandas.concat instead.\n",
      "  amazon_data = amazon_data.append({'Date':date, 'Open':Open, 'High':high, 'Low':low,\n",
      "/var/folders/15/fq8jz34j167gs86br_nxwydc0000gn/T/ipykernel_12981/2860485820.py:13: FutureWarning: The frame.append method is deprecated and will be removed from pandas in a future version. Use pandas.concat instead.\n",
      "  amazon_data = amazon_data.append({'Date':date, 'Open':Open, 'High':high, 'Low':low,\n",
      "/var/folders/15/fq8jz34j167gs86br_nxwydc0000gn/T/ipykernel_12981/2860485820.py:13: FutureWarning: The frame.append method is deprecated and will be removed from pandas in a future version. Use pandas.concat instead.\n",
      "  amazon_data = amazon_data.append({'Date':date, 'Open':Open, 'High':high, 'Low':low,\n",
      "/var/folders/15/fq8jz34j167gs86br_nxwydc0000gn/T/ipykernel_12981/2860485820.py:13: FutureWarning: The frame.append method is deprecated and will be removed from pandas in a future version. Use pandas.concat instead.\n",
      "  amazon_data = amazon_data.append({'Date':date, 'Open':Open, 'High':high, 'Low':low,\n",
      "/var/folders/15/fq8jz34j167gs86br_nxwydc0000gn/T/ipykernel_12981/2860485820.py:13: FutureWarning: The frame.append method is deprecated and will be removed from pandas in a future version. Use pandas.concat instead.\n",
      "  amazon_data = amazon_data.append({'Date':date, 'Open':Open, 'High':high, 'Low':low,\n",
      "/var/folders/15/fq8jz34j167gs86br_nxwydc0000gn/T/ipykernel_12981/2860485820.py:13: FutureWarning: The frame.append method is deprecated and will be removed from pandas in a future version. Use pandas.concat instead.\n",
      "  amazon_data = amazon_data.append({'Date':date, 'Open':Open, 'High':high, 'Low':low,\n",
      "/var/folders/15/fq8jz34j167gs86br_nxwydc0000gn/T/ipykernel_12981/2860485820.py:13: FutureWarning: The frame.append method is deprecated and will be removed from pandas in a future version. Use pandas.concat instead.\n",
      "  amazon_data = amazon_data.append({'Date':date, 'Open':Open, 'High':high, 'Low':low,\n",
      "/var/folders/15/fq8jz34j167gs86br_nxwydc0000gn/T/ipykernel_12981/2860485820.py:13: FutureWarning: The frame.append method is deprecated and will be removed from pandas in a future version. Use pandas.concat instead.\n",
      "  amazon_data = amazon_data.append({'Date':date, 'Open':Open, 'High':high, 'Low':low,\n",
      "/var/folders/15/fq8jz34j167gs86br_nxwydc0000gn/T/ipykernel_12981/2860485820.py:13: FutureWarning: The frame.append method is deprecated and will be removed from pandas in a future version. Use pandas.concat instead.\n",
      "  amazon_data = amazon_data.append({'Date':date, 'Open':Open, 'High':high, 'Low':low,\n",
      "/var/folders/15/fq8jz34j167gs86br_nxwydc0000gn/T/ipykernel_12981/2860485820.py:13: FutureWarning: The frame.append method is deprecated and will be removed from pandas in a future version. Use pandas.concat instead.\n",
      "  amazon_data = amazon_data.append({'Date':date, 'Open':Open, 'High':high, 'Low':low,\n",
      "/var/folders/15/fq8jz34j167gs86br_nxwydc0000gn/T/ipykernel_12981/2860485820.py:13: FutureWarning: The frame.append method is deprecated and will be removed from pandas in a future version. Use pandas.concat instead.\n",
      "  amazon_data = amazon_data.append({'Date':date, 'Open':Open, 'High':high, 'Low':low,\n",
      "/var/folders/15/fq8jz34j167gs86br_nxwydc0000gn/T/ipykernel_12981/2860485820.py:13: FutureWarning: The frame.append method is deprecated and will be removed from pandas in a future version. Use pandas.concat instead.\n",
      "  amazon_data = amazon_data.append({'Date':date, 'Open':Open, 'High':high, 'Low':low,\n",
      "/var/folders/15/fq8jz34j167gs86br_nxwydc0000gn/T/ipykernel_12981/2860485820.py:13: FutureWarning: The frame.append method is deprecated and will be removed from pandas in a future version. Use pandas.concat instead.\n",
      "  amazon_data = amazon_data.append({'Date':date, 'Open':Open, 'High':high, 'Low':low,\n",
      "/var/folders/15/fq8jz34j167gs86br_nxwydc0000gn/T/ipykernel_12981/2860485820.py:13: FutureWarning: The frame.append method is deprecated and will be removed from pandas in a future version. Use pandas.concat instead.\n",
      "  amazon_data = amazon_data.append({'Date':date, 'Open':Open, 'High':high, 'Low':low,\n",
      "/var/folders/15/fq8jz34j167gs86br_nxwydc0000gn/T/ipykernel_12981/2860485820.py:13: FutureWarning: The frame.append method is deprecated and will be removed from pandas in a future version. Use pandas.concat instead.\n",
      "  amazon_data = amazon_data.append({'Date':date, 'Open':Open, 'High':high, 'Low':low,\n",
      "/var/folders/15/fq8jz34j167gs86br_nxwydc0000gn/T/ipykernel_12981/2860485820.py:13: FutureWarning: The frame.append method is deprecated and will be removed from pandas in a future version. Use pandas.concat instead.\n",
      "  amazon_data = amazon_data.append({'Date':date, 'Open':Open, 'High':high, 'Low':low,\n",
      "/var/folders/15/fq8jz34j167gs86br_nxwydc0000gn/T/ipykernel_12981/2860485820.py:13: FutureWarning: The frame.append method is deprecated and will be removed from pandas in a future version. Use pandas.concat instead.\n",
      "  amazon_data = amazon_data.append({'Date':date, 'Open':Open, 'High':high, 'Low':low,\n",
      "/var/folders/15/fq8jz34j167gs86br_nxwydc0000gn/T/ipykernel_12981/2860485820.py:13: FutureWarning: The frame.append method is deprecated and will be removed from pandas in a future version. Use pandas.concat instead.\n",
      "  amazon_data = amazon_data.append({'Date':date, 'Open':Open, 'High':high, 'Low':low,\n",
      "/var/folders/15/fq8jz34j167gs86br_nxwydc0000gn/T/ipykernel_12981/2860485820.py:13: FutureWarning: The frame.append method is deprecated and will be removed from pandas in a future version. Use pandas.concat instead.\n",
      "  amazon_data = amazon_data.append({'Date':date, 'Open':Open, 'High':high, 'Low':low,\n",
      "/var/folders/15/fq8jz34j167gs86br_nxwydc0000gn/T/ipykernel_12981/2860485820.py:13: FutureWarning: The frame.append method is deprecated and will be removed from pandas in a future version. Use pandas.concat instead.\n",
      "  amazon_data = amazon_data.append({'Date':date, 'Open':Open, 'High':high, 'Low':low,\n",
      "/var/folders/15/fq8jz34j167gs86br_nxwydc0000gn/T/ipykernel_12981/2860485820.py:13: FutureWarning: The frame.append method is deprecated and will be removed from pandas in a future version. Use pandas.concat instead.\n",
      "  amazon_data = amazon_data.append({'Date':date, 'Open':Open, 'High':high, 'Low':low,\n",
      "/var/folders/15/fq8jz34j167gs86br_nxwydc0000gn/T/ipykernel_12981/2860485820.py:13: FutureWarning: The frame.append method is deprecated and will be removed from pandas in a future version. Use pandas.concat instead.\n",
      "  amazon_data = amazon_data.append({'Date':date, 'Open':Open, 'High':high, 'Low':low,\n",
      "/var/folders/15/fq8jz34j167gs86br_nxwydc0000gn/T/ipykernel_12981/2860485820.py:13: FutureWarning: The frame.append method is deprecated and will be removed from pandas in a future version. Use pandas.concat instead.\n",
      "  amazon_data = amazon_data.append({'Date':date, 'Open':Open, 'High':high, 'Low':low,\n",
      "/var/folders/15/fq8jz34j167gs86br_nxwydc0000gn/T/ipykernel_12981/2860485820.py:13: FutureWarning: The frame.append method is deprecated and will be removed from pandas in a future version. Use pandas.concat instead.\n",
      "  amazon_data = amazon_data.append({'Date':date, 'Open':Open, 'High':high, 'Low':low,\n",
      "/var/folders/15/fq8jz34j167gs86br_nxwydc0000gn/T/ipykernel_12981/2860485820.py:13: FutureWarning: The frame.append method is deprecated and will be removed from pandas in a future version. Use pandas.concat instead.\n",
      "  amazon_data = amazon_data.append({'Date':date, 'Open':Open, 'High':high, 'Low':low,\n",
      "/var/folders/15/fq8jz34j167gs86br_nxwydc0000gn/T/ipykernel_12981/2860485820.py:13: FutureWarning: The frame.append method is deprecated and will be removed from pandas in a future version. Use pandas.concat instead.\n",
      "  amazon_data = amazon_data.append({'Date':date, 'Open':Open, 'High':high, 'Low':low,\n",
      "/var/folders/15/fq8jz34j167gs86br_nxwydc0000gn/T/ipykernel_12981/2860485820.py:13: FutureWarning: The frame.append method is deprecated and will be removed from pandas in a future version. Use pandas.concat instead.\n",
      "  amazon_data = amazon_data.append({'Date':date, 'Open':Open, 'High':high, 'Low':low,\n",
      "/var/folders/15/fq8jz34j167gs86br_nxwydc0000gn/T/ipykernel_12981/2860485820.py:13: FutureWarning: The frame.append method is deprecated and will be removed from pandas in a future version. Use pandas.concat instead.\n",
      "  amazon_data = amazon_data.append({'Date':date, 'Open':Open, 'High':high, 'Low':low,\n",
      "/var/folders/15/fq8jz34j167gs86br_nxwydc0000gn/T/ipykernel_12981/2860485820.py:13: FutureWarning: The frame.append method is deprecated and will be removed from pandas in a future version. Use pandas.concat instead.\n",
      "  amazon_data = amazon_data.append({'Date':date, 'Open':Open, 'High':high, 'Low':low,\n",
      "/var/folders/15/fq8jz34j167gs86br_nxwydc0000gn/T/ipykernel_12981/2860485820.py:13: FutureWarning: The frame.append method is deprecated and will be removed from pandas in a future version. Use pandas.concat instead.\n",
      "  amazon_data = amazon_data.append({'Date':date, 'Open':Open, 'High':high, 'Low':low,\n",
      "/var/folders/15/fq8jz34j167gs86br_nxwydc0000gn/T/ipykernel_12981/2860485820.py:13: FutureWarning: The frame.append method is deprecated and will be removed from pandas in a future version. Use pandas.concat instead.\n",
      "  amazon_data = amazon_data.append({'Date':date, 'Open':Open, 'High':high, 'Low':low,\n",
      "/var/folders/15/fq8jz34j167gs86br_nxwydc0000gn/T/ipykernel_12981/2860485820.py:13: FutureWarning: The frame.append method is deprecated and will be removed from pandas in a future version. Use pandas.concat instead.\n",
      "  amazon_data = amazon_data.append({'Date':date, 'Open':Open, 'High':high, 'Low':low,\n",
      "/var/folders/15/fq8jz34j167gs86br_nxwydc0000gn/T/ipykernel_12981/2860485820.py:13: FutureWarning: The frame.append method is deprecated and will be removed from pandas in a future version. Use pandas.concat instead.\n",
      "  amazon_data = amazon_data.append({'Date':date, 'Open':Open, 'High':high, 'Low':low,\n",
      "/var/folders/15/fq8jz34j167gs86br_nxwydc0000gn/T/ipykernel_12981/2860485820.py:13: FutureWarning: The frame.append method is deprecated and will be removed from pandas in a future version. Use pandas.concat instead.\n",
      "  amazon_data = amazon_data.append({'Date':date, 'Open':Open, 'High':high, 'Low':low,\n",
      "/var/folders/15/fq8jz34j167gs86br_nxwydc0000gn/T/ipykernel_12981/2860485820.py:13: FutureWarning: The frame.append method is deprecated and will be removed from pandas in a future version. Use pandas.concat instead.\n",
      "  amazon_data = amazon_data.append({'Date':date, 'Open':Open, 'High':high, 'Low':low,\n",
      "/var/folders/15/fq8jz34j167gs86br_nxwydc0000gn/T/ipykernel_12981/2860485820.py:13: FutureWarning: The frame.append method is deprecated and will be removed from pandas in a future version. Use pandas.concat instead.\n",
      "  amazon_data = amazon_data.append({'Date':date, 'Open':Open, 'High':high, 'Low':low,\n",
      "/var/folders/15/fq8jz34j167gs86br_nxwydc0000gn/T/ipykernel_12981/2860485820.py:13: FutureWarning: The frame.append method is deprecated and will be removed from pandas in a future version. Use pandas.concat instead.\n",
      "  amazon_data = amazon_data.append({'Date':date, 'Open':Open, 'High':high, 'Low':low,\n",
      "/var/folders/15/fq8jz34j167gs86br_nxwydc0000gn/T/ipykernel_12981/2860485820.py:13: FutureWarning: The frame.append method is deprecated and will be removed from pandas in a future version. Use pandas.concat instead.\n",
      "  amazon_data = amazon_data.append({'Date':date, 'Open':Open, 'High':high, 'Low':low,\n",
      "/var/folders/15/fq8jz34j167gs86br_nxwydc0000gn/T/ipykernel_12981/2860485820.py:13: FutureWarning: The frame.append method is deprecated and will be removed from pandas in a future version. Use pandas.concat instead.\n",
      "  amazon_data = amazon_data.append({'Date':date, 'Open':Open, 'High':high, 'Low':low,\n",
      "/var/folders/15/fq8jz34j167gs86br_nxwydc0000gn/T/ipykernel_12981/2860485820.py:13: FutureWarning: The frame.append method is deprecated and will be removed from pandas in a future version. Use pandas.concat instead.\n",
      "  amazon_data = amazon_data.append({'Date':date, 'Open':Open, 'High':high, 'Low':low,\n"
     ]
    }
   ],
   "source": [
    "amazon_data = pd.DataFrame(columns=['Date', 'Open', 'High', 'Low', 'Close', 'Volume'])\n",
    "\n",
    "for row in soup.find('tbody').find_all('tr'):\n",
    "    col = row.find_all('td')\n",
    "    date = col[0].text\n",
    "    Open = col[1].text\n",
    "    high = col[2].text\n",
    "    low = col[3].text\n",
    "    close = col[4].text\n",
    "    adj_close = col[5].text\n",
    "    volume = col[6].text\n",
    "    \n",
    "    amazon_data = amazon_data.append({'Date':date, 'Open':Open, 'High':high, 'Low':low, \n",
    "                                     'Close':close, 'Adj Close':adj_close, 'Volume':volume},\n",
    "                                    ignore_index=True)"
   ]
  },
  {
   "cell_type": "code",
   "execution_count": 34,
   "id": "5de2ef98",
   "metadata": {},
   "outputs": [
    {
     "data": {
      "text/html": [
       "<div>\n",
       "<style scoped>\n",
       "    .dataframe tbody tr th:only-of-type {\n",
       "        vertical-align: middle;\n",
       "    }\n",
       "\n",
       "    .dataframe tbody tr th {\n",
       "        vertical-align: top;\n",
       "    }\n",
       "\n",
       "    .dataframe thead th {\n",
       "        text-align: right;\n",
       "    }\n",
       "</style>\n",
       "<table border=\"1\" class=\"dataframe\">\n",
       "  <thead>\n",
       "    <tr style=\"text-align: right;\">\n",
       "      <th></th>\n",
       "      <th>Date</th>\n",
       "      <th>Open</th>\n",
       "      <th>High</th>\n",
       "      <th>Low</th>\n",
       "      <th>Close</th>\n",
       "      <th>Volume</th>\n",
       "      <th>Adj Close</th>\n",
       "    </tr>\n",
       "  </thead>\n",
       "  <tbody>\n",
       "    <tr>\n",
       "      <th>0</th>\n",
       "      <td>Jan 01, 2021</td>\n",
       "      <td>3,270.00</td>\n",
       "      <td>3,363.89</td>\n",
       "      <td>3,086.00</td>\n",
       "      <td>3,206.20</td>\n",
       "      <td>71,528,900</td>\n",
       "      <td>3,206.20</td>\n",
       "    </tr>\n",
       "    <tr>\n",
       "      <th>1</th>\n",
       "      <td>Dec 01, 2020</td>\n",
       "      <td>3,188.50</td>\n",
       "      <td>3,350.65</td>\n",
       "      <td>3,072.82</td>\n",
       "      <td>3,256.93</td>\n",
       "      <td>77,556,200</td>\n",
       "      <td>3,256.93</td>\n",
       "    </tr>\n",
       "    <tr>\n",
       "      <th>2</th>\n",
       "      <td>Nov 01, 2020</td>\n",
       "      <td>3,061.74</td>\n",
       "      <td>3,366.80</td>\n",
       "      <td>2,950.12</td>\n",
       "      <td>3,168.04</td>\n",
       "      <td>90,810,500</td>\n",
       "      <td>3,168.04</td>\n",
       "    </tr>\n",
       "    <tr>\n",
       "      <th>3</th>\n",
       "      <td>Oct 01, 2020</td>\n",
       "      <td>3,208.00</td>\n",
       "      <td>3,496.24</td>\n",
       "      <td>3,019.00</td>\n",
       "      <td>3,036.15</td>\n",
       "      <td>116,226,100</td>\n",
       "      <td>3,036.15</td>\n",
       "    </tr>\n",
       "    <tr>\n",
       "      <th>4</th>\n",
       "      <td>Sep 01, 2020</td>\n",
       "      <td>3,489.58</td>\n",
       "      <td>3,552.25</td>\n",
       "      <td>2,871.00</td>\n",
       "      <td>3,148.73</td>\n",
       "      <td>115,899,300</td>\n",
       "      <td>3,148.73</td>\n",
       "    </tr>\n",
       "  </tbody>\n",
       "</table>\n",
       "</div>"
      ],
      "text/plain": [
       "           Date      Open      High       Low     Close       Volume Adj Close\n",
       "0  Jan 01, 2021  3,270.00  3,363.89  3,086.00  3,206.20   71,528,900  3,206.20\n",
       "1  Dec 01, 2020  3,188.50  3,350.65  3,072.82  3,256.93   77,556,200  3,256.93\n",
       "2  Nov 01, 2020  3,061.74  3,366.80  2,950.12  3,168.04   90,810,500  3,168.04\n",
       "3  Oct 01, 2020  3,208.00  3,496.24  3,019.00  3,036.15  116,226,100  3,036.15\n",
       "4  Sep 01, 2020  3,489.58  3,552.25  2,871.00  3,148.73  115,899,300  3,148.73"
      ]
     },
     "execution_count": 34,
     "metadata": {},
     "output_type": "execute_result"
    }
   ],
   "source": [
    "amazon_data.head()"
   ]
  },
  {
   "cell_type": "code",
   "execution_count": 37,
   "id": "22a23196",
   "metadata": {},
   "outputs": [
    {
     "data": {
      "text/plain": [
       "Date         Jan 01, 2016\n",
       "Open               656.29\n",
       "High               657.72\n",
       "Low                547.18\n",
       "Close              587.00\n",
       "Volume        130,200,900\n",
       "Adj Close          587.00\n",
       "Name: 60, dtype: object"
      ]
     },
     "execution_count": 37,
     "metadata": {},
     "output_type": "execute_result"
    }
   ],
   "source": [
    "amazon_data.iloc[len(amazon_data)-1]"
   ]
  },
  {
   "cell_type": "code",
   "execution_count": null,
   "id": "970f67ce",
   "metadata": {},
   "outputs": [],
   "source": []
  }
 ],
 "metadata": {
  "kernelspec": {
   "display_name": "Python 3 (ipykernel)",
   "language": "python",
   "name": "python3"
  },
  "language_info": {
   "codemirror_mode": {
    "name": "ipython",
    "version": 3
   },
   "file_extension": ".py",
   "mimetype": "text/x-python",
   "name": "python",
   "nbconvert_exporter": "python",
   "pygments_lexer": "ipython3",
   "version": "3.9.12"
  }
 },
 "nbformat": 4,
 "nbformat_minor": 5
}
